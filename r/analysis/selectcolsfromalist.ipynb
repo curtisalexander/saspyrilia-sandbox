{
 "cells": [
  {
   "cell_type": "code",
   "execution_count": null,
   "metadata": {},
   "outputs": [],
   "source": [
    "library(tibble)\n",
    "\n",
    "person <- tibble::tribble(\n",
    "  ~name, ~fav_fruit_veg, ~fav_treat, ~sweet_tooth, ~age,\n",
    "  \"Alice\", \"apple\", \"apple pie\", \"yes\", 10,\n",
    "  \"Balin\", \"banana\", \"bananas foster\", \"yes\", 53,\n",
    "  \"Cal\", \"carrot\", \"carrot cake\", \"no\", 34,\n",
    "  \"Dara\", \"dates\", \"doughnut\", \"yes\", 83,\n",
    "  \"Ezekiel\", \"elderberry\", \"elderberry tart\", \"no\", 4,\n",
    "  \"Frances\", \"fig\", \"fig bars\", \"no\", 34\n",
    ")\n",
    "\n",
    "print(person)"
   ]
  },
  {
   "cell_type": "code",
   "execution_count": null,
   "metadata": {},
   "outputs": [],
   "source": [
    "library(dplyr)\n",
    "library(fs)\n",
    "library(purrr)\n",
    "library(readr)\n",
    "\n",
    "pwd <- fs::path_wd()\n",
    "support_dir <- fs::path_join(c(pwd, \"../../support\")) %>% fs::path_real()\n",
    "cols_to_select <- fs::path_join(c(support_dir, \"colstoselect.txt\"))\n",
    "\n",
    "writeLines(cols_to_select)"
   ]
  },
  {
   "cell_type": "code",
   "execution_count": null,
   "metadata": {},
   "outputs": [],
   "source": [
    "cols <- readr::read_lines(cols_to_select)\n",
    "cols_startswith_n <- cols %>% purrr::keep(~ startsWith(., \"n\"))"
   ]
  },
  {
   "cell_type": "code",
   "execution_count": null,
   "metadata": {},
   "outputs": [],
   "source": [
    "name_treat <- person %>% dplyr::select(dplyr::all_of(cols))\n",
    "\n",
    "print(name_treat)"
   ]
  },
  {
   "cell_type": "code",
   "execution_count": null,
   "metadata": {},
   "outputs": [],
   "source": [
    "name <- person %>% dplyr::select(dplyr::all_of(cols_startswith_n))\n",
    "\n",
    "print(name)"
   ]
  },
  {
   "cell_type": "code",
   "execution_count": null,
   "metadata": {},
   "outputs": [],
   "source": []
  }
 ],
 "metadata": {
  "kernelspec": {
   "display_name": "R",
   "language": "R",
   "name": "ir"
  },
  "language_info": {
   "codemirror_mode": "r",
   "file_extension": ".r",
   "mimetype": "text/x-r-source",
   "name": "R",
   "pygments_lexer": "r",
   "version": "3.6.3"
  }
 },
 "nbformat": 4,
 "nbformat_minor": 4
}
