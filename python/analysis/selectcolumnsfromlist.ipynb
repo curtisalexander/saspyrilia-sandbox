{
 "cells": [
  {
   "cell_type": "code",
   "execution_count": null,
   "metadata": {},
   "outputs": [],
   "source": [
    "import pandas as pd\n",
    "\n",
    "person = pd.DataFrame(\n",
    "    [\n",
    "        (\"Alice\", \"apple\", \"apple pie\", \"yes\", 10),\n",
    "        (\"Balin\", \"banana\", \"bananas foster\", \"yes\", 53),\n",
    "        (\"Cal\", \"carrot\", \"carrot cake\", \"no\", 34),\n",
    "        (\"Dara\", \"dates\", \"doughnut\", \"yes\", 83),\n",
    "        (\"Ezekiel\", \"elderberry\", \"elderberry tart\", \"no\",4),\n",
    "        (\"Frances\", \"fig\", \"fig bars\", \"no\", 34),\n",
    "    ],\n",
    "    columns=(\"name\", \"fav_fruit_veg\", \"fav_treat\", \"sweet_tooth\", \"age\"),\n",
    ").astype({\n",
    "    \"name\": \"string\",\n",
    "    \"fav_fruit_veg\": \"string\",\n",
    "    \"fav_treat\": \"string\",\n",
    "    \"sweet_tooth\": \"string\",\n",
    "    \"age\": \"int\"\n",
    "})\n",
    "\n",
    "person.head()"
   ]
  },
  {
   "cell_type": "code",
   "execution_count": null,
   "metadata": {},
   "outputs": [],
   "source": [
    "from pathlib import Path\n",
    "\n",
    "pwd = Path().absolute()\n",
    "support_dir = Path(pwd.parents[1], \"support\")\n",
    "cols_to_select = Path(support_dir, \"colstoselect.txt\")\n",
    "\n",
    "print(cols_to_select)"
   ]
  },
  {
   "cell_type": "code",
   "execution_count": null,
   "metadata": {},
   "outputs": [],
   "source": [
    "with open(cols_to_select, \"r\") as f:\n",
    "    cols = [l.rstrip(\"\\n\") for l in f]\n",
    "    \n",
    "cols_startwith_n = [c for c in cols if c.startswith(\"n\")]"
   ]
  },
  {
   "cell_type": "code",
   "execution_count": null,
   "metadata": {},
   "outputs": [],
   "source": [
    "name_treat = person[cols]\n",
    "\n",
    "name_treat.head()"
   ]
  },
  {
   "cell_type": "code",
   "execution_count": null,
   "metadata": {},
   "outputs": [],
   "source": [
    "name = person[cols_startwith_n]\n",
    "\n",
    "name.head()"
   ]
  }
 ],
 "metadata": {
  "kernelspec": {
   "display_name": "Python 3",
   "language": "python",
   "name": "python3"
  },
  "language_info": {
   "codemirror_mode": {
    "name": "ipython",
    "version": 3
   },
   "file_extension": ".py",
   "mimetype": "text/x-python",
   "name": "python",
   "nbconvert_exporter": "python",
   "pygments_lexer": "ipython3",
   "version": "3.8.5"
  }
 },
 "nbformat": 4,
 "nbformat_minor": 4
}
