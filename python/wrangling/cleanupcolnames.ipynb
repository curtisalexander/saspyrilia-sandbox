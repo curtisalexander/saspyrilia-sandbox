{
 "metadata": {
  "language_info": {
   "codemirror_mode": {
    "name": "ipython",
    "version": 3
   },
   "file_extension": ".py",
   "mimetype": "text/x-python",
   "name": "python",
   "nbconvert_exporter": "python",
   "pygments_lexer": "ipython3",
   "version": "3.8.3-final"
  },
  "orig_nbformat": 2,
  "kernelspec": {
   "name": "python38364bitcondaee9f317b332944bbb50a1198e0326d3c",
   "display_name": "Python 3.8.3 64-bit (conda)"
  }
 },
 "nbformat": 4,
 "nbformat_minor": 2,
 "cells": [
  {
   "cell_type": "code",
   "execution_count": 8,
   "metadata": {},
   "outputs": [],
   "source": [
    "import pandas as pd\n",
    "import re\n",
    "\n",
    "df = pd.DataFrame(\n",
    "    [\n",
    "        (1, 2, 3, 4),\n",
    "        (5, 6, 7, 8)\n",
    "    ],\n",
    "    columns=(\"a\", \"col with   space\", \" col_with_ws_prefix\", \"COLwithMIXEDCaSE\")\n",
    ")\n",
    "\n",
    "# rename all columns using function provided\n",
    "def rename_cols(df, f):\n",
    "    return df.rename(columns = lambda x: f(x))\n",
    "\n",
    "# function to use on an individual column name\n",
    "def string_to_lower_and_ws_cleaned_up(x):\n",
    "    return re.sub(r\" +\", \"_\", x.lower().strip())\n",
    "\n",
    "# apply\n",
    "# results in new dataframe rather than changing in place\n",
    "df_clean = rename_cols(df, string_to_lower_and_ws_cleaned_up)"
   ]
  },
  {
   "cell_type": "code",
   "execution_count": 9,
   "metadata": {},
   "outputs": [
    {
     "output_type": "execute_result",
     "data": {
      "text/plain": "   a  col_with_space  col_with_ws_prefix  colwithmixedcase\n0  1               2                   3                 4\n1  5               6                   7                 8",
      "text/html": "<div>\n<style scoped>\n    .dataframe tbody tr th:only-of-type {\n        vertical-align: middle;\n    }\n\n    .dataframe tbody tr th {\n        vertical-align: top;\n    }\n\n    .dataframe thead th {\n        text-align: right;\n    }\n</style>\n<table border=\"1\" class=\"dataframe\">\n  <thead>\n    <tr style=\"text-align: right;\">\n      <th></th>\n      <th>a</th>\n      <th>col_with_space</th>\n      <th>col_with_ws_prefix</th>\n      <th>colwithmixedcase</th>\n    </tr>\n  </thead>\n  <tbody>\n    <tr>\n      <th>0</th>\n      <td>1</td>\n      <td>2</td>\n      <td>3</td>\n      <td>4</td>\n    </tr>\n    <tr>\n      <th>1</th>\n      <td>5</td>\n      <td>6</td>\n      <td>7</td>\n      <td>8</td>\n    </tr>\n  </tbody>\n</table>\n</div>"
     },
     "metadata": {},
     "execution_count": 9
    }
   ],
   "source": [
    "df_clean"
   ]
  }
 ]
}