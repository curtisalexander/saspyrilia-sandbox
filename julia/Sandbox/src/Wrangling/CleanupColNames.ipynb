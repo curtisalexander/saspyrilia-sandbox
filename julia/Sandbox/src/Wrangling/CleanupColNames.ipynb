{
 "cells": [
  {
   "cell_type": "code",
   "execution_count": 9,
   "metadata": {},
   "outputs": [
    {
     "name": "stderr",
     "output_type": "stream",
     "text": [
      "\u001b[32m\u001b[1m Activating\u001b[22m\u001b[39m environment at `~/code/saspyrilia-sandboxes/julia/Sandbox/Project.toml`\n"
     ]
    }
   ],
   "source": [
    "using Pkg\n",
    "\n",
    "DIR = normpath(joinpath(@__DIR__, \"../..\"))\n",
    "Pkg.activate(DIR)\n",
    "Pkg.instantiate()"
   ]
  },
  {
   "cell_type": "code",
   "execution_count": 12,
   "metadata": {},
   "outputs": [
    {
     "name": "stdout",
     "output_type": "stream",
     "text": [
      "\u001b[36m\u001b[1mProject \u001b[22m\u001b[39mSandbox v0.1.0\n",
      "\u001b[32m\u001b[1mStatus\u001b[22m\u001b[39m `~/code/saspyrilia-sandboxes/julia/Sandbox/Project.toml`\n",
      " \u001b[90m [a93c6f00] \u001b[39m\u001b[37mDataFrames v0.21.1\u001b[39m\n",
      " \u001b[90m [7073ff75] \u001b[39m\u001b[37mIJulia v1.21.3\u001b[39m\n",
      " \u001b[90m [b98c9c47] \u001b[39m\u001b[37mPipe v1.3.0\u001b[39m\n",
      " \u001b[90m [1a8c2f83] \u001b[39m\u001b[37mQuery v0.12.2\u001b[39m\n",
      " \u001b[90m [10745b16] \u001b[39m\u001b[37mStatistics\u001b[39m\n"
     ]
    }
   ],
   "source": [
    "Pkg.status()"
   ]
  },
  {
   "cell_type": "code",
   "execution_count": 68,
   "metadata": {},
   "outputs": [
    {
     "data": {
      "text/html": [
       "<table class=\"data-frame\"><thead><tr><th></th><th>a</th><th>col_with_space</th><th>col_with_ws_prefix</th><th>colwithmixedcase</th></tr><tr><th></th><th>Int64</th><th>Int64</th><th>Int64</th><th>Int64</th></tr></thead><tbody><p>2 rows × 4 columns</p><tr><th>1</th><td>1</td><td>2</td><td>3</td><td>4</td></tr><tr><th>2</th><td>5</td><td>6</td><td>7</td><td>8</td></tr></tbody></table>"
      ],
      "text/latex": [
       "\\begin{tabular}{r|cccc}\n",
       "\t& a & col\\_with\\_space & col\\_with\\_ws\\_prefix & colwithmixedcase\\\\\n",
       "\t\\hline\n",
       "\t& Int64 & Int64 & Int64 & Int64\\\\\n",
       "\t\\hline\n",
       "\t1 & 1 & 2 & 3 & 4 \\\\\n",
       "\t2 & 5 & 6 & 7 & 8 \\\\\n",
       "\\end{tabular}\n"
      ],
      "text/plain": [
       "2×4 DataFrame\n",
       "│ Row │ a     │ col_with_space │ col_with_ws_prefix │ colwithmixedcase │\n",
       "│     │ \u001b[90mInt64\u001b[39m │ \u001b[90mInt64\u001b[39m          │ \u001b[90mInt64\u001b[39m              │ \u001b[90mInt64\u001b[39m            │\n",
       "├─────┼───────┼────────────────┼────────────────────┼──────────────────┤\n",
       "│ 1   │ 1     │ 2              │ 3                  │ 4                │\n",
       "│ 2   │ 5     │ 6              │ 7                  │ 8                │"
      ]
     },
     "execution_count": 68,
     "metadata": {},
     "output_type": "execute_result"
    }
   ],
   "source": [
    "using DataFrames\n",
    "\n",
    "df_data = [\n",
    "    (1, 2, 3, 4),\n",
    "    (5, 6, 7, 8)\n",
    "]\n",
    "\n",
    "df = DataFrame(df_data)\n",
    "names!(df, Symbol.([\"a\", \"col with   space\", \" col_with_ws_prefix\", \"COLwithMIXEDCaSE\"]))\n",
    "\n",
    "# function to use on an individual column name\n",
    "string_to_lower_and_ws_cleaned_up = function(x::String)\n",
    "    lowercase(x) |> strip |> (s -> replace(s, r\"\\s+\" => \"_\"))\n",
    "end\n",
    "\n",
    "# apply\n",
    "# results in new dataframe rather than changing in place\n",
    "df_clean = rename(string_to_lower_and_ws_cleaned_up, df)"
   ]
  },
  {
   "cell_type": "code",
   "execution_count": 69,
   "metadata": {},
   "outputs": [
    {
     "data": {
      "text/plain": [
       "4-element Array{String,1}:\n",
       " \"a\"\n",
       " \"col_with_space\"\n",
       " \"col_with_ws_prefix\"\n",
       " \"colwithmixedcase\""
      ]
     },
     "execution_count": 69,
     "metadata": {},
     "output_type": "execute_result"
    }
   ],
   "source": [
    "names(df_clean)"
   ]
  },
  {
   "cell_type": "code",
   "execution_count": null,
   "metadata": {},
   "outputs": [],
   "source": []
  }
 ],
 "metadata": {
  "kernelspec": {
   "display_name": "Julia 1.5.1",
   "language": "julia",
   "name": "julia-1.5"
  },
  "language_info": {
   "file_extension": ".jl",
   "mimetype": "application/julia",
   "name": "julia",
   "version": "1.5.1"
  }
 },
 "nbformat": 4,
 "nbformat_minor": 4
}
