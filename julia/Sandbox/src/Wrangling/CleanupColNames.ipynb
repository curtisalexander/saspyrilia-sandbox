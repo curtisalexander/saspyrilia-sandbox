{
 "cells": [
  {
   "cell_type": "code",
   "execution_count": null,
   "metadata": {},
   "outputs": [],
   "source": [
    "using Pkg\n",
    "\n",
    "DIR = normpath(joinpath(@__DIR__, \"../..\"))\n",
    "Pkg.activate(DIR)\n",
    "Pkg.instantiate()"
   ]
  },
  {
   "cell_type": "code",
   "execution_count": null,
   "metadata": {},
   "outputs": [],
   "source": [
    "Pkg.status()"
   ]
  },
  {
   "cell_type": "code",
   "execution_count": null,
   "metadata": {},
   "outputs": [],
   "source": [
    "using DataFrames\n",
    "\n",
    "df_data = [\n",
    "    (1, 2, 3, 4),\n",
    "    (5, 6, 7, 8)\n",
    "]\n",
    "\n",
    "df = DataFrame(df_data)\n",
    "names!(df, Symbol.([\"a\", \"col with   space\", \" col_with_ws_prefix\", \"COLwithMIXEDCaSE\"]))\n",
    "\n",
    "# function to use on an individual column name\n",
    "string_to_lower_and_ws_cleaned_up = function(x::String)\n",
    "    lowercase(x) |> strip |> (s -> replace(s, r\"\\s+\" => \"_\"))\n",
    "end\n",
    "\n",
    "# apply\n",
    "# results in new dataframe rather than changing in place\n",
    "df_clean = rename(string_to_lower_and_ws_cleaned_up, df)"
   ]
  },
  {
   "cell_type": "code",
   "execution_count": null,
   "metadata": {},
   "outputs": [],
   "source": [
    "names(df_clean)"
   ]
  }
 ],
 "metadata": {
  "kernelspec": {
   "display_name": "Julia 1.5.1",
   "language": "julia",
   "name": "julia-1.5"
  },
  "language_info": {
   "file_extension": ".jl",
   "mimetype": "application/julia",
   "name": "julia",
   "version": "1.5.1"
  }
 },
 "nbformat": 4,
 "nbformat_minor": 4
}
