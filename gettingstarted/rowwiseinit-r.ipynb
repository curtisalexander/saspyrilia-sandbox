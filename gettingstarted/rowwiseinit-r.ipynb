{
 "cells": [
  {
   "cell_type": "code",
   "execution_count": null,
   "metadata": {},
   "outputs": [],
   "source": [
    "library(tibble)\n",
    "\n",
    "person <- tibble::tribble(\n",
    "  ~name, ~fav_fruit_veg, ~fav_treat, ~sweet_tooth, ~age,\n",
    "  \"Alice\", \"apple\", \"apple pie\", \"yes\", 10,\n",
    "  \"Balin\", \"banana\", \"bananas foster\", \"yes\", 53,\n",
    "  \"Cal\", \"carrot\", \"carrot cake\", \"no\", 34,\n",
    "  \"Dara\", \"dates\", \"doughnut\", \"yes\", 83,\n",
    "  \"Ezekiel\", \"elderberry\", \"elderberry tart\", \"no\", 4,\n",
    "  \"Frances\", \"fig\", \"fig bars\", \"no\", 34\n",
    ")"
   ]
  },
  {
   "cell_type": "code",
   "execution_count": null,
   "metadata": {},
   "outputs": [],
   "source": [
    "person"
   ]
  }
 ],
 "metadata": {
  "kernelspec": {
   "display_name": "R",
   "language": "R",
   "name": "ir"
  },
  "language_info": {
   "codemirror_mode": "r",
   "file_extension": ".r",
   "mimetype": "text/x-r-source",
   "name": "R",
   "pygments_lexer": "r",
   "version": "4.0.3"
  }
 },
 "nbformat": 4,
 "nbformat_minor": 4
}
