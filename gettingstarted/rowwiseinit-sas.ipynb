{
 "cells": [
  {
   "cell_type": "code",
   "execution_count": null,
   "metadata": {},
   "outputs": [],
   "source": [
    "!~/bin/update-authinfo.sh"
   ]
  },
  {
   "cell_type": "code",
   "execution_count": null,
   "metadata": {},
   "outputs": [],
   "source": [
    "data person ;\n",
    "input name $10. fav_fruit_veg $20. fav_treat $20. sweet_tooth $3. age ;\n",
    "/*\n",
    "----+----1----+----2----+----3----+----4----+----5----+----6----+----7\n",
    "*/\n",
    "datalines4;\n",
    "Alice     apple               apple pie           yes 10\n",
    "Balin     banana              bananas foster      yes 53\n",
    "Cal       carrot              carrot cake         no  34\n",
    "Dara      dates               doughnut            yes 83\n",
    "Ezekiel   elderberry          elderberry tart     no  4\n",
    "Frances   fig                 fig bars            no  34\n",
    ";;;;\n",
    "run;"
   ]
  },
  {
   "cell_type": "code",
   "execution_count": null,
   "metadata": {},
   "outputs": [],
   "source": [
    "proc print data=person; run;"
   ]
  }
 ],
 "metadata": {
  "kernelspec": {
   "display_name": "SAS",
   "language": "sas",
   "name": "sas"
  },
  "language_info": {
   "codemirror_mode": "sas",
   "file_extension": ".sas",
   "mimetype": "text/x-sas",
   "name": "sas"
  }
 },
 "nbformat": 4,
 "nbformat_minor": 4
}
