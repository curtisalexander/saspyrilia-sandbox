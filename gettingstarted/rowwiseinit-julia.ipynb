{
 "cells": [
  {
   "cell_type": "code",
   "execution_count": 1,
   "metadata": {},
   "outputs": [
    {
     "ename": "LoadError",
     "evalue": "ArgumentError: Package DataFrames not found in current path:\n- Run `import Pkg; Pkg.add(\"DataFrames\")` to install the DataFrames package.\n",
     "output_type": "error",
     "traceback": [
      "ArgumentError: Package DataFrames not found in current path:\n- Run `import Pkg; Pkg.add(\"DataFrames\")` to install the DataFrames package.\n",
      "",
      "Stacktrace:",
      " [1] require(::Module, ::Symbol) at ./loading.jl:893",
      " [2] include_string(::Function, ::Module, ::String, ::String) at ./loading.jl:1091",
      " [3] execute_code(::String, ::String) at /opt/julia/packages/IJulia/rWZ9e/src/execute_request.jl:27",
      " [4] execute_request(::ZMQ.Socket, ::IJulia.Msg) at /opt/julia/packages/IJulia/rWZ9e/src/execute_request.jl:86",
      " [5] #invokelatest#1 at ./essentials.jl:710 [inlined]",
      " [6] invokelatest at ./essentials.jl:709 [inlined]",
      " [7] eventloop(::ZMQ.Socket) at /opt/julia/packages/IJulia/rWZ9e/src/eventloop.jl:8",
      " [8] (::IJulia.var\"#15#18\")() at ./task.jl:356"
     ]
    }
   ],
   "source": [
    "using DataFrames\n",
    "\n",
    "person_data = [\n",
    "    (\"Alice\", \"apple\", \"apple pie\", \"yes\", 10),\n",
    "    (\"Balin\", \"banana\", \"bananas foster\", \"yes\", 53),\n",
    "    (\"Cal\", \"carrot\", \"carrot cake\", \"no\", 34),\n",
    "    (\"Dara\", \"dates\", \"doughnut\", \"yes\", 83),\n",
    "    (\"Ezekiel\", \"elderberry\", \"elderberry tart\", \"no\", 4),\n",
    "    (\"Frances\", \"fig\", \"fig bars\", \"no\", 34)\n",
    "]\n",
    "\n",
    "person = DataFrame(name = String[], fav_fruit_veg = String[], fav_treat = String[], sweet_tooth = String[], age = Int[])\n",
    "for p in person_data\n",
    "    push!(person, p)\n",
    "end"
   ]
  },
  {
   "cell_type": "code",
   "execution_count": null,
   "metadata": {},
   "outputs": [],
   "source": []
  }
 ],
 "metadata": {
  "kernelspec": {
   "display_name": "Julia 1.5.2",
   "language": "julia",
   "name": "julia-1.5"
  },
  "language_info": {
   "file_extension": ".jl",
   "mimetype": "application/julia",
   "name": "julia",
   "version": "1.5.2"
  }
 },
 "nbformat": 4,
 "nbformat_minor": 4
}
