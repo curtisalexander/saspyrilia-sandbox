{
 "cells": [
  {
   "cell_type": "code",
   "execution_count": null,
   "metadata": {},
   "outputs": [],
   "source": [
    "import pandas as pd\n",
    "\n",
    "person = pd.DataFrame(\n",
    "    [\n",
    "        (\"Alice\", \"apple\", \"apple pie\", \"yes\", 10),\n",
    "        (\"Balin\", \"banana\", \"bananas foster\", \"yes\", 53),\n",
    "        (\"Cal\", \"carrot\", \"carrot cake\", \"no\", 34),\n",
    "        (\"Dara\", \"dates\", \"doughnut\", \"yes\", 83),\n",
    "        (\"Ezekiel\", \"elderberry\", \"elderberry tart\", \"no\",4),\n",
    "        (\"Frances\", \"fig\", \"fig bars\", \"no\", 34),\n",
    "    ],\n",
    "    columns=(\"name\", \"fav_fruit_veg\", \"fav_treat\", \"sweet_tooth\", \"age\"),\n",
    ").astype({\n",
    "    \"name\": \"string\",\n",
    "    \"fav_fruit_veg\": \"string\",\n",
    "    \"fav_treat\": \"string\",\n",
    "    \"sweet_tooth\": \"string\",\n",
    "    \"age\": \"int\"\n",
    "})"
   ]
  },
  {
   "cell_type": "code",
   "execution_count": null,
   "metadata": {},
   "outputs": [],
   "source": [
    "print(person)"
   ]
  }
 ],
 "metadata": {
  "kernelspec": {
   "display_name": "Python 3",
   "language": "python",
   "name": "python3"
  },
  "language_info": {
   "codemirror_mode": {
    "name": "ipython",
    "version": 3
   },
   "file_extension": ".py",
   "mimetype": "text/x-python",
   "name": "python",
   "nbconvert_exporter": "python",
   "pygments_lexer": "ipython3",
   "version": "3.8.6"
  }
 },
 "nbformat": 4,
 "nbformat_minor": 4
}
