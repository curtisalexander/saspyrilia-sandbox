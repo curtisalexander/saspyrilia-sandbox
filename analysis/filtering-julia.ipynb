{
 "cells": [
  {
   "cell_type": "code",
   "execution_count": null,
   "metadata": {},
   "outputs": [],
   "source": [
    "using DataFrames\n",
    "\n",
    "person_data = [\n",
    "    (\"Alice\", \"apple\", \"apple pie\", \"yes\", 10),\n",
    "    (\"Balin\", \"banana\", \"bananas foster\", \"yes\", 53),\n",
    "    (\"Cal\", \"carrot\", \"carrot cake\", \"no\", 34),\n",
    "    (\"Dara\", \"dates\", \"doughnut\", \"yes\", 83),\n",
    "    (\"Ezekiel\", \"elderberry\", \"elderberry tart\", \"no\", 4),\n",
    "    (\"Frances\", \"fig\", \"fig bars\", \"no\", 34)\n",
    "]\n",
    "\n",
    "person = DataFrame(name = String[], fav_fruit_veg = String[], fav_treat = String[], sweet_tooth = String[], age = Int[])\n",
    "for p in person_data\n",
    "    push!(person, p)\n",
    "end"
   ]
  },
  {
   "cell_type": "code",
   "execution_count": null,
   "metadata": {},
   "outputs": [],
   "source": [
    "using DataFrames, Queryverse\n",
    "\n",
    "######################\n",
    "## single condition ##\n",
    "######################\n",
    "\n",
    "# Query - stand alone\n",
    "sweet_tooth_sa = person |>\n",
    "    @filter(_.sweet_tooth==\"yes\") |>\n",
    "    DataFrame\n",
    "\n",
    "# Query - LINQ\n",
    "sweet_tooth_q = @from i in person begin\n",
    "    @where i.sweet_tooth==\"yes\"\n",
    "    @select i\n",
    "    @collect DataFrame\n",
    "end"
   ]
  },
  {
   "cell_type": "code",
   "execution_count": null,
   "metadata": {},
   "outputs": [],
   "source": [
    "sweet_tooth_sa"
   ]
  },
  {
   "cell_type": "code",
   "execution_count": null,
   "metadata": {},
   "outputs": [],
   "source": [
    "sweet_tooth_q"
   ]
  },
  {
   "cell_type": "code",
   "execution_count": null,
   "metadata": {},
   "outputs": [],
   "source": [
    "#########################\n",
    "## multiple conditions ##\n",
    "#########################\n",
    "\n",
    "# Query - stand alone\n",
    "sweet_tooth_older_sa = person |>\n",
    "    @filter(_.sweet_tooth==\"yes\" && _.age > 20) |>\n",
    "    DataFrame\n",
    "\n",
    "# Query - LINQ\n",
    "sweet_tooth_older_q = @from i in person begin\n",
    "    @where i.sweet_tooth==\"yes\" && i.age > 20\n",
    "    @select i\n",
    "    @collect DataFrame\n",
    "end"
   ]
  },
  {
   "cell_type": "code",
   "execution_count": null,
   "metadata": {},
   "outputs": [],
   "source": [
    "sweet_tooth_older_sa"
   ]
  },
  {
   "cell_type": "code",
   "execution_count": null,
   "metadata": {},
   "outputs": [],
   "source": [
    "sweet_tooth_older_q"
   ]
  }
 ],
 "metadata": {
  "kernelspec": {
   "display_name": "Julia 1.5.2",
   "language": "julia",
   "name": "julia-1.5"
  },
  "language_info": {
   "file_extension": ".jl",
   "mimetype": "application/julia",
   "name": "julia",
   "version": "1.5.2"
  }
 },
 "nbformat": 4,
 "nbformat_minor": 4
}
